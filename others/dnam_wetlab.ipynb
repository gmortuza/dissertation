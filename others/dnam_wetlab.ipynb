{
 "cells": [
  {
   "cell_type": "code",
   "execution_count": 1,
   "metadata": {},
   "outputs": [],
   "source": [
    "import copy\n",
    "\n",
    "import numpy as np\n",
    "import pandas as pd\n",
    "import matplotlib.pyplot as plt\n",
    "from collections import Counter\n",
    "from matplotlib.patches import Rectangle\n",
    "from matplotlib.patches import Circle\n",
    "from IPython.display import display\n",
    "import subprocess\n",
    "import matplotlib"
   ]
  },
  {
   "cell_type": "code",
   "execution_count": 2,
   "metadata": {},
   "outputs": [],
   "source": [
    "r1_without_intensity = pd.read_csv(\"/Users/gmortuza/PycharmProjects/dissertation/plot_generator/intensity_graph_generator/data/r1_without_intensity_ior.csv\")\n",
    "r2_without_intensity = pd.read_csv(\"/Users/gmortuza/PycharmProjects/dissertation/plot_generator/intensity_graph_generator/data/r2_without_intensity_ior.csv\")\n",
    "r3_without_intensity = pd.read_csv(\"/Users/gmortuza/PycharmProjects/dissertation/plot_generator/intensity_graph_generator/data/r3_without_intensity_ior.csv\")\n",
    "\n",
    "r1_with_intensity = pd.read_csv(\"/Users/gmortuza/PycharmProjects/dissertation/plot_generator/intensity_graph_generator/data/r1_with_intensity_ior.csv\")\n",
    "r2_with_intensity = pd.read_csv(\"/Users/gmortuza/PycharmProjects/dissertation/plot_generator/intensity_graph_generator/data/r2_with_intensity_ior.csv\")\n",
    "r3_with_intensity = pd.read_csv(\"/Users/gmortuza/PycharmProjects/dissertation/plot_generator/intensity_graph_generator/data/r3_with_intensity_ior.csv\")\n",
    "\n",
    "\n",
    "# data = data.loc[data.error >= 1]\n",
    "r1_without_intensity.columns = r1_without_intensity.columns.str.strip().str.lower().str.replace(' ', '_')\n",
    "r2_without_intensity.columns = r2_without_intensity.columns.str.strip().str.lower().str.replace(' ', '_')\n",
    "r3_without_intensity.columns = r3_without_intensity.columns.str.strip().str.lower().str.replace(' ', '_')\n",
    "\n",
    "r1_with_intensity.columns = r1_with_intensity.columns.str.strip().str.lower().str.replace(' ', '_')\n",
    "r2_with_intensity.columns = r2_with_intensity.columns.str.strip().str.lower().str.replace(' ', '_')\n",
    "r3_with_intensity.columns = r3_with_intensity.columns.str.strip().str.lower().str.replace(' ', '_')"
   ]
  },
  {
   "cell_type": "code",
   "execution_count": 3,
   "metadata": {},
   "outputs": [],
   "source": [
    "# Generating error list table\n",
    "def format_data(data):\n",
    "    result_details = np.zeros((15, 4)) # First one will be correct second one incorrect\n",
    "    orientation_details = np.zeros((4)).astype(int)\n",
    "    error_details = np.zeros((data['error'].max()+1)).astype(int)\n",
    "    error_locations_details = []\n",
    "    #single_origami_error_locations_details = dict.fromkeys(list(range(15)),{'data':None, 'error_details':[], 'orientation':{0:0,1:0,2:0,3:0}})\n",
    "    single_origami_error_locations_details = {}\n",
    "\n",
    "    # Calculate number of one in a specific position\n",
    "    number_of_one = np.zeros((6,8)).astype(int)\n",
    "    error_mirror_x = {}\n",
    "    error_mirror_y = {}\n",
    "    for i in zip(range(6), reversed(range(6))):\n",
    "        error_mirror_x[str(i[0])] = str(i[1])\n",
    "    for i in zip(range(8), reversed(range(8))):\n",
    "        error_mirror_y[str(i[0])] = str(i[1])\n",
    "\n",
    "    for i, single_origami_result in data.iterrows():\n",
    "        # Counting orientation\n",
    "        if single_origami_result.decoded_index > 14:\n",
    "            continue\n",
    "        if single_origami_result.status == 1:\n",
    "            # it's correct origami\n",
    "            result_details[single_origami_result.decoded_index][0] += 1\n",
    "            result_details[single_origami_result.decoded_index][3] += single_origami_result.error\n",
    "            error_details[single_origami_result.error] += 1\n",
    "\n",
    "            orientation_details[single_origami_result.orientation] += 1\n",
    "\n",
    "            origami = np.array(list(single_origami_result.decoded_origami)).astype(int).reshape(6,8)\n",
    "            number_of_one = np.add(number_of_one, origami)\n",
    "\n",
    "            # Analyzing single origami.\n",
    "            # set data\n",
    "            if not single_origami_result.decoded_index in single_origami_error_locations_details:\n",
    "                single_origami_error_locations_details[single_origami_result.decoded_index] = \\\n",
    "                {'data':single_origami_result.decoded_origami, 'error_details':[], 'orientation':{0:0,1:0,2:0,3:0},\n",
    "                'correct':0}\n",
    "            # Setting the orientation\n",
    "            single_origami_error_locations_details[single_origami_result.decoded_index]\\\n",
    "            ['orientation'][single_origami_result.orientation] += 1\n",
    "            single_origami_error_locations_details[single_origami_result.decoded_index]\\\n",
    "            ['correct'] += 1\n",
    "            error_location = \"\"\n",
    "            if single_origami_result.error > 0:\n",
    "                single_origami_error = (single_origami_result.error_location).replace(\"(\",\"\").replace(\")\",\"\").replace(\"[\",\"\").replace(\"]\",\"\").replace(\" \",\"\")\n",
    "                for i in range(0, len(single_origami_error), 2):\n",
    "                    # if the origami is mirror then mirror the error location:\n",
    "                    if single_origami_result.orientation == 3:\n",
    "                        error_location = error_mirror_x[single_origami_error[i]]+error_mirror_y[single_origami_error[i+1]]\n",
    "                    else:\n",
    "                        error_location = single_origami_error[i:i+2]\n",
    "                    single_origami_error_locations_details[single_origami_result.decoded_index]\\\n",
    "            ['error_details'].append(error_location)\n",
    "\n",
    "\n",
    "        else:\n",
    "            result_details[single_origami_result.decoded_index][1] += 1\n",
    "\n",
    "        result_details[single_origami_result.decoded_index][2] += 1\n",
    "\n",
    "    # Analyzing error location\n",
    "    error_occurance_list = Counter(error_locations_details).most_common()\n",
    "    error_occurance = np.zeros((6, 8))\n",
    "    for error in error_occurance_list:\n",
    "        error_occurance[int(error[0][0])][int(error[0][1])] = error[1]\n",
    "        \n",
    "    result_sum = np.sum(result_details, axis=0).reshape(1, 4)\n",
    "    result_details = np.append(result_details, result_sum, axis=0)\n",
    "\n",
    "    # set the average error recovered per index\n",
    "    for row in result_details:\n",
    "        row[3] = float(row[3]) / float(row[0])\n",
    "\n",
    "    x = np.array(np.arange(16)).reshape(16, 1)\n",
    "    result_details = np.append(x, result_details, axis=1)\n",
    "    result_details_df = pd.DataFrame(result_details, columns=['Recovered Index','Correct', 'Incorrect', 'Total',\"Average error fixed\"])\n",
    "    result_details_df['Recovered Index'] = result_details_df['Recovered Index'].astype(int)\n",
    "    result_details_df['Correct'] = result_details_df['Correct'].astype(int)\n",
    "    result_details_df['Incorrect'] = result_details_df['Incorrect'].astype(int)\n",
    "    result_details_df['Total'] = result_details_df['Total'].astype(int)\n",
    "    result_details_df['Recovered Index'][15] = \"Total\"\n",
    "    result_details_df.set_index('Recovered Index', inplace=True)\n",
    "    \n",
    "    return result_details_df, error_details, orientation_details, single_origami_error_locations_details, number_of_one\n",
    "\n",
    "# single_origami_error_locations_details[1][\"data\"] = 10"
   ]
  },
  {
   "cell_type": "code",
   "execution_count": 4,
   "metadata": {},
   "outputs": [
    {
     "name": "stderr",
     "output_type": "stream",
     "text": [
      "/var/folders/yz/7sx9j80n33x4tz7j6yr7tg0m0000gp/T/ipykernel_25030/462485147.py:83: SettingWithCopyWarning: \n",
      "A value is trying to be set on a copy of a slice from a DataFrame\n",
      "\n",
      "See the caveats in the documentation: https://pandas.pydata.org/pandas-docs/stable/user_guide/indexing.html#returning-a-view-versus-a-copy\n",
      "  result_details_df['Recovered Index'][15] = \"Total\"\n",
      "/var/folders/yz/7sx9j80n33x4tz7j6yr7tg0m0000gp/T/ipykernel_25030/462485147.py:83: SettingWithCopyWarning: \n",
      "A value is trying to be set on a copy of a slice from a DataFrame\n",
      "\n",
      "See the caveats in the documentation: https://pandas.pydata.org/pandas-docs/stable/user_guide/indexing.html#returning-a-view-versus-a-copy\n",
      "  result_details_df['Recovered Index'][15] = \"Total\"\n",
      "/var/folders/yz/7sx9j80n33x4tz7j6yr7tg0m0000gp/T/ipykernel_25030/462485147.py:83: SettingWithCopyWarning: \n",
      "A value is trying to be set on a copy of a slice from a DataFrame\n",
      "\n",
      "See the caveats in the documentation: https://pandas.pydata.org/pandas-docs/stable/user_guide/indexing.html#returning-a-view-versus-a-copy\n",
      "  result_details_df['Recovered Index'][15] = \"Total\"\n",
      "/var/folders/yz/7sx9j80n33x4tz7j6yr7tg0m0000gp/T/ipykernel_25030/462485147.py:83: SettingWithCopyWarning: \n",
      "A value is trying to be set on a copy of a slice from a DataFrame\n",
      "\n",
      "See the caveats in the documentation: https://pandas.pydata.org/pandas-docs/stable/user_guide/indexing.html#returning-a-view-versus-a-copy\n",
      "  result_details_df['Recovered Index'][15] = \"Total\"\n",
      "/var/folders/yz/7sx9j80n33x4tz7j6yr7tg0m0000gp/T/ipykernel_25030/462485147.py:83: SettingWithCopyWarning: \n",
      "A value is trying to be set on a copy of a slice from a DataFrame\n",
      "\n",
      "See the caveats in the documentation: https://pandas.pydata.org/pandas-docs/stable/user_guide/indexing.html#returning-a-view-versus-a-copy\n",
      "  result_details_df['Recovered Index'][15] = \"Total\"\n",
      "/var/folders/yz/7sx9j80n33x4tz7j6yr7tg0m0000gp/T/ipykernel_25030/462485147.py:83: SettingWithCopyWarning: \n",
      "A value is trying to be set on a copy of a slice from a DataFrame\n",
      "\n",
      "See the caveats in the documentation: https://pandas.pydata.org/pandas-docs/stable/user_guide/indexing.html#returning-a-view-versus-a-copy\n",
      "  result_details_df['Recovered Index'][15] = \"Total\"\n"
     ]
    }
   ],
   "source": [
    "r1_without_intensity_result, r1_without_intensity_error_details, r1_without_intensity_orientation, r1_without_intensity_single_origami_error_locations_details, r1_without_intensity_number_of_one = format_data(r1_without_intensity)\n",
    "r2_without_intensity_result, r2_without_intensity_error_details, r2_without_intensity_orientation, r2_without_intensity_single_origami_error_locations_details, r2_without_intensity_number_of_one = format_data(r2_without_intensity)\n",
    "r3_without_intensity_result, r3_without_intensity_error_details, r3_without_intensity_orientation, r3_without_intensity_single_origami_error_locations_details, r3_without_intensity_number_of_one = format_data(r3_without_intensity)\n",
    "\n",
    "r1_with_intensity_result, r1_with_intensity_error_details, r1_with_intensity_orientation, r1_with_intensity_single_origami_error_locations_details, r1_with_intensity_number_of_one = format_data(r1_with_intensity)\n",
    "r2_with_intensity_result, r2_with_intensity_error_details, r2_with_intensity_orientation, r2_with_intensity_single_origami_error_locations_details, r2_with_intensity_number_of_one = format_data(r2_with_intensity)\n",
    "r3_with_intensity_result, r3_with_intensity_error_details, r3_with_intensity_orientation, r3_with_intensity_single_origami_error_locations_details, r3_with_intensity_number_of_one = format_data(r3_with_intensity)\n",
    "\n",
    "# result_details_df.head(1000)"
   ]
  },
  {
   "cell_type": "code",
   "execution_count": 5,
   "metadata": {},
   "outputs": [],
   "source": [
    "bar_correct = pd.DataFrame([r1_without_intensity_result[\"Correct\"].tolist(), r2_without_intensity_result[\"Correct\"].tolist(), r3_without_intensity_result[\"Correct\"].tolist()])\n",
    "bar_fixed = pd.DataFrame([r1_without_intensity_result[\"Average error fixed\"].tolist(), r2_without_intensity_result[\"Average error fixed\"].tolist(), r3_without_intensity_result[\"Average error fixed\"].tolist()])"
   ]
  },
  {
   "cell_type": "code",
   "execution_count": 6,
   "metadata": {},
   "outputs": [
    {
     "data": {
      "text/plain": [
       "0       96\n",
       "1      112\n",
       "2       19\n",
       "3       32\n",
       "4       46\n",
       "5      123\n",
       "6      141\n",
       "7       23\n",
       "8       60\n",
       "9       55\n",
       "10     105\n",
       "11      65\n",
       "12      54\n",
       "13      93\n",
       "14      96\n",
       "15    1120\n",
       "dtype: int64"
      ]
     },
     "execution_count": 6,
     "metadata": {},
     "output_type": "execute_result"
    }
   ],
   "source": [
    "bar_correct.sum()"
   ]
  },
  {
   "cell_type": "code",
   "execution_count": 7,
   "metadata": {},
   "outputs": [
    {
     "data": {
      "image/png": "[encoded data removed]",
      "text/plain": [
       "<Figure size 864x432 with 1 Axes>"
      ]
     },
     "metadata": {
      "needs_background": "light"
     },
     "output_type": "display_data"
    }
   ],
   "source": [
    "matplotlib.rc('figure', figsize=(12, 6))\n",
    "plt.rcParams['font.size'] = 24\n",
    "plt.rcParams[\"font.family\"] = \"Times New Roman\"\n",
    "# fig = plt.figure(figsize=(15, 10))\n",
    "plt.bar(r1_without_intensity_result.index.to_numpy()[:15], bar_correct.mean().tolist()[:15], yerr=bar_correct.std().tolist()[:15], color='#b7b7b7', align='center', label=\"Without intensity\", capsize=7)\n",
    "# plt.bar(r1_without_intensity_result.index.to_numpy()[:15], r2_with_intensity_result[\"Correct\"].tolist()[:15], color='#000', width=width, align='edge', label=\"With intensity\")\n",
    "plt.xlabel(\"Origami index\", fontsize=32)\n",
    "plt.ylabel(\"Number of origamies corrected\", fontsize=28)\n",
    "plt.savefig(\"dnam_wetlab_origami_detection_frequency.png\", dpi=100, bbox_inches=\"tight\")\n",
    "# plt.legend()\n",
    "plt.show()"
   ]
  },
  {
   "cell_type": "code",
   "execution_count": 8,
   "metadata": {},
   "outputs": [
    {
     "data": {
      "image/png": "[encoded data removed]",
      "text/plain": [
       "<Figure size 864x432 with 1 Axes>"
      ]
     },
     "metadata": {
      "needs_background": "light"
     },
     "output_type": "display_data"
    }
   ],
   "source": [
    "matplotlib.rc('figure', figsize=(12, 6))\n",
    "plt.rcParams['font.size'] = 24\n",
    "plt.rcParams[\"font.family\"] = \"Times New Roman\"\n",
    "# fig = plt.figure(figsize=(15, 10))\n",
    "plt.bar(r1_without_intensity_result.index.to_numpy()[:15], bar_fixed.mean().tolist()[:15], yerr=bar_fixed.std().tolist()[:15], color='#b7b7b7', align='center', label=\"Without intensity\", capsize=7)\n",
    "# plt.bar(r1_without_intensity_result.index.to_numpy()[:15], r2_with_intensity_result[\"Correct\"].tolist()[:15], color='#000', width=width, align='edge', label=\"With intensity\")\n",
    "plt.xlabel(\"Origami index\", fontsize=32)\n",
    "plt.ylabel(\"Average errors fixed per origami\", fontsize=28)\n",
    "plt.savefig(\"dnam_wetlab_origami_average_error_fixed.png\", dpi=100, bbox_inches=\"tight\")\n",
    "# plt.legend()\n",
    "plt.show()"
   ]
  },
  {
   "cell_type": "code",
   "execution_count": 9,
   "metadata": {},
   "outputs": [],
   "source": [
    "# combine number of recovered origami from all cells\n",
    "import operator\n",
    "total_recovered_origami_without = list(map(operator.add, list(map(operator.add, r1_without_intensity_result[\"Correct\"].tolist(), r2_without_intensity_result[\"Correct\"].tolist())), r3_without_intensity_result[\"Correct\"].tolist()))\n",
    "total_recovered_origami_with = list(map(operator.add, list(map(operator.add, r1_with_intensity_result[\"Correct\"].tolist(), r2_with_intensity_result[\"Correct\"].tolist())), r3_with_intensity_result[\"Correct\"].tolist()))"
   ]
  },
  {
   "cell_type": "code",
   "execution_count": 10,
   "metadata": {},
   "outputs": [],
   "source": [
    "with_intensity_bar_correct = pd.DataFrame([r1_with_intensity_result[\"Correct\"].tolist(), r2_with_intensity_result[\"Correct\"].tolist(), r3_with_intensity_result[\"Correct\"].tolist()])\n",
    "with_intensity_bar_fixed = pd.DataFrame([r1_with_intensity_result[\"Average error fixed\"].tolist(), r2_with_intensity_result[\"Average error fixed\"].tolist(), r3_with_intensity_result[\"Average error fixed\"].tolist()])\n",
    "\n"
   ]
  },
  {
   "cell_type": "code",
   "execution_count": 11,
   "metadata": {},
   "outputs": [
    {
     "data": {
      "image/png": "[encoded data removed]",
      "text/plain": [
       "<Figure size 864x432 with 1 Axes>"
      ]
     },
     "metadata": {
      "needs_background": "light"
     },
     "output_type": "display_data"
    }
   ],
   "source": [
    "matplotlib.rc('figure', figsize=(12, 6))\n",
    "plt.rcParams['font.size'] = 24\n",
    "plt.rcParams[\"font.family\"] = \"Times New Roman\"\n",
    "# fig = plt.figure(figsize=(15, 10))\n",
    "width=.4\n",
    "plt.bar(r1_without_intensity_result.index.to_numpy()[:15] - .4, bar_correct.sum().tolist()[:15], color='#b7b7b7', width=width, align='edge', label=\"Without intensity\")\n",
    "plt.bar(r1_without_intensity_result.index.to_numpy()[:15], with_intensity_bar_correct.sum().tolist()[:15], color='#000', width=width, align='edge', label=\"With intensity\")\n",
    "plt.xlabel(\"Origami index\", fontsize=28)\n",
    "plt.ylabel(\"# Number of origami corrected\", fontsize=28)\n",
    "plt.legend()\n",
    "plt.savefig(\"intensity_with_without_frequency.png\", dpi=100, bbox_inches=\"tight\", transparent=True, )\n",
    "plt.show()\n",
    "# result_details_df[\"Correct\"].tolist()\n",
    "# result_details_df.index"
   ]
  },
  {
   "cell_type": "code",
   "execution_count": 12,
   "metadata": {},
   "outputs": [
    {
     "data": {
      "text/html": [
       "<div>\n",
       "<style scoped>\n",
       "    .dataframe tbody tr th:only-of-type {\n",
       "        vertical-align: middle;\n",
       "    }\n",
       "\n",
       "    .dataframe tbody tr th {\n",
       "        vertical-align: top;\n",
       "    }\n",
       "\n",
       "    .dataframe thead th {\n",
       "        text-align: right;\n",
       "    }\n",
       "</style>\n",
       "<table border=\"1\" class=\"dataframe\">\n",
       "  <thead>\n",
       "    <tr style=\"text-align: right;\">\n",
       "      <th></th>\n",
       "      <th>Unflipped</th>\n",
       "      <th>Flipped horizontally</th>\n",
       "      <th>Flipped vertically</th>\n",
       "      <th>Flipped horizontally and vertically</th>\n",
       "    </tr>\n",
       "    <tr>\n",
       "      <th></th>\n",
       "      <th></th>\n",
       "      <th></th>\n",
       "      <th></th>\n",
       "      <th></th>\n",
       "    </tr>\n",
       "  </thead>\n",
       "  <tbody>\n",
       "    <tr>\n",
       "      <th>Total</th>\n",
       "      <td>168</td>\n",
       "      <td>0</td>\n",
       "      <td>0</td>\n",
       "      <td>136</td>\n",
       "    </tr>\n",
       "  </tbody>\n",
       "</table>\n",
       "</div>"
      ],
      "text/plain": [
       "      Unflipped Flipped horizontally Flipped vertically  \\\n",
       "                                                          \n",
       "Total       168                    0                  0   \n",
       "\n",
       "      Flipped horizontally and vertically  \n",
       "                                           \n",
       "Total                                 136  "
      ]
     },
     "execution_count": 12,
     "metadata": {},
     "output_type": "execute_result"
    }
   ],
   "source": [
    " # Orientation\n",
    "result_orientation_df = pd.DataFrame(np.append([[\"Total\"]], r1_without_intensity_orientation.reshape(1, 4), axis=1), columns=[\"\",\"Unflipped\",\"Flipped horizontally\", \"Flipped vertically\", \"Flipped horizontally and vertically\"])\n",
    "result_orientation_df.set_index(\"\", inplace=True)\n",
    "result_orientation_df.head()"
   ]
  },
  {
   "cell_type": "code",
   "execution_count": 13,
   "metadata": {},
   "outputs": [
    {
     "data": {
      "text/html": [
       "<div>\n",
       "<style scoped>\n",
       "    .dataframe tbody tr th:only-of-type {\n",
       "        vertical-align: middle;\n",
       "    }\n",
       "\n",
       "    .dataframe tbody tr th {\n",
       "        vertical-align: top;\n",
       "    }\n",
       "\n",
       "    .dataframe thead th {\n",
       "        text-align: right;\n",
       "    }\n",
       "</style>\n",
       "<table border=\"1\" class=\"dataframe\">\n",
       "  <thead>\n",
       "    <tr style=\"text-align: right;\">\n",
       "      <th></th>\n",
       "      <th>Number of origami that was fixed</th>\n",
       "    </tr>\n",
       "    <tr>\n",
       "      <th>Number of error</th>\n",
       "      <th></th>\n",
       "    </tr>\n",
       "  </thead>\n",
       "  <tbody>\n",
       "    <tr>\n",
       "      <th>0</th>\n",
       "      <td>1</td>\n",
       "    </tr>\n",
       "    <tr>\n",
       "      <th>1</th>\n",
       "      <td>3</td>\n",
       "    </tr>\n",
       "    <tr>\n",
       "      <th>2</th>\n",
       "      <td>21</td>\n",
       "    </tr>\n",
       "    <tr>\n",
       "      <th>3</th>\n",
       "      <td>39</td>\n",
       "    </tr>\n",
       "    <tr>\n",
       "      <th>4</th>\n",
       "      <td>47</td>\n",
       "    </tr>\n",
       "    <tr>\n",
       "      <th>5</th>\n",
       "      <td>50</td>\n",
       "    </tr>\n",
       "    <tr>\n",
       "      <th>6</th>\n",
       "      <td>61</td>\n",
       "    </tr>\n",
       "    <tr>\n",
       "      <th>7</th>\n",
       "      <td>51</td>\n",
       "    </tr>\n",
       "    <tr>\n",
       "      <th>8</th>\n",
       "      <td>31</td>\n",
       "    </tr>\n",
       "  </tbody>\n",
       "</table>\n",
       "</div>"
      ],
      "text/plain": [
       "                 Number of origami that was fixed\n",
       "Number of error                                  \n",
       "0                                               1\n",
       "1                                               3\n",
       "2                                              21\n",
       "3                                              39\n",
       "4                                              47\n",
       "5                                              50\n",
       "6                                              61\n",
       "7                                              51\n",
       "8                                              31"
      ]
     },
     "execution_count": 13,
     "metadata": {},
     "output_type": "execute_result"
    }
   ],
   "source": [
    "# Error details\n",
    "error_df = pd.DataFrame(r1_without_intensity_error_details, columns=[\"Number of origami that was fixed\"])\n",
    "error_df.index.name=\"Number of error\"\n",
    "error_df.head(20)"
   ]
  },
  {
   "cell_type": "code",
   "execution_count": 14,
   "metadata": {},
   "outputs": [],
   "source": [
    "# Combine all error details\n",
    "def combine_error_details(datas):\n",
    "    import copy\n",
    "    combined_error_details = copy.deepcopy(datas[0])\n",
    "    origami_ids = datas[0].keys()\n",
    "    for data in datas[1:]:\n",
    "        for origami_id in origami_ids:\n",
    "            combined_error_details[origami_id]['error_details'].extend(data[origami_id]['error_details'])\n",
    "            combined_error_details[origami_id]['correct'] += data[origami_id]['correct']\n",
    "            for orientation  in combined_error_details[origami_id]['orientation']:\n",
    "                combined_error_details[origami_id]['orientation'][orientation] += data[origami_id]['orientation'][orientation]\n",
    "    return combined_error_details\n",
    "\n"
   ]
  },
  {
   "cell_type": "code",
   "execution_count": 15,
   "metadata": {},
   "outputs": [],
   "source": [
    "combine_error_location_details = combine_error_details([r1_without_intensity_single_origami_error_locations_details, r2_without_intensity_single_origami_error_locations_details, r3_without_intensity_single_origami_error_locations_details])"
   ]
  },
  {
   "cell_type": "code",
   "execution_count": 16,
   "metadata": {},
   "outputs": [],
   "source": [
    "combined_number_of_one = r1_without_intensity_number_of_one + r2_without_intensity_number_of_one + r3_without_intensity_number_of_one"
   ]
  },
  {
   "cell_type": "code",
   "execution_count": 43,
   "metadata": {},
   "outputs": [],
   "source": [
    "#Ploting individual origami error details\n",
    "def print_individual_error(single_origami_error_locations_details, number_of_one):\n",
    "#     matplotlib.rc('figure', figsize=(2, 15))\n",
    "#     plt.rcParams['font.size'] = 24\n",
    "    total_error = []\n",
    "\n",
    "    for origami_index in sorted(single_origami_error_locations_details):\n",
    "        error_occurance_list = Counter(single_origami_error_locations_details[origami_index]['error_details']).most_common()\n",
    "        total_error.extend(single_origami_error_locations_details[origami_index]['error_details'])\n",
    "        origami = np.array(list(single_origami_error_locations_details[origami_index]['data'])).reshape(6,8).astype(int)\n",
    "        error_occurance = np.zeros((6, 8))\n",
    "        for error in error_occurance_list:\n",
    "            error_occurance[int(error[0][0])][int(error[0][1])] = error[1]\n",
    "\n",
    "        total_ones_in_origami = origami * int(single_origami_error_locations_details[origami_index]['correct'])\n",
    "        fig, ax = plt.subplots(nrows=1, ncols=1, figsize=(4, 3))\n",
    "\n",
    "        #Plot number of one graph\n",
    "        percentage_error = error_occurance/total_ones_in_origami\n",
    "        #handle the infinity\n",
    "        percentage_error[np.isnan(percentage_error)] = 0\n",
    "        percentage_error = (percentage_error * 100).astype(int)\n",
    "        ax.imshow(percentage_error, cmap=\"Reds\")\n",
    "        # ax.title.set_text(\"Error frequency in origami: \"+str(origami_index)+\"\\n Total Decoded: \"\\\n",
    "        #                      +str(single_origami_error_locations_details[origami_index]['correct'])\\\n",
    "        #                     +\"\\n Orientation Unflipped: \"+str(single_origami_error_locations_details[origami_index]['orientation'][0])\n",
    "        #                     +\"\\n Orientation Flipped horizontally & vertically: \"+str(single_origami_error_locations_details[origami_index]['orientation'][3]))\n",
    "        # ax.title.set_text(\"Origami index -- \"+ str(origami_index))\n",
    "        # ax.title.set_size(25)\n",
    "        for i in range(6):\n",
    "            for j in range(8):\n",
    "                if int(total_ones_in_origami[i, j]) >= 1:\n",
    "                    # text = str(int(error_occurance[i, j]))+ \"/\" + str(total_ones_in_origami[i, j])+ \" = \" + str(percentage_error[i, j])\n",
    "                    text = percentage_error[i, j]\n",
    "                else:\n",
    "                    text = \"\"\n",
    "                ax.text(j, i, text,\n",
    "                               ha=\"center\", va=\"center\", color=\"w\", size=12)\n",
    "                # if int(origami[i, j]) == 1:\\\n",
    "                #     ax.add_patch(ax.add_patch(Circle((j, i), .5, facecolor='none',\n",
    "                #     edgecolor=(1, 0, 0), linewidth=3, alpha=1)))\n",
    "        ax.get_xaxis().set_visible(False)\n",
    "        ax.get_yaxis().set_visible(False)\n",
    "\n",
    "        fig.savefig(f\"individual_origami_error_map_{origami_index}.png\", bbox_inches='tight', dpi=300)\n",
    "\n",
    "    # Ploting the heatmap\n",
    "\n",
    "    error_occurance = np.zeros((6, 8))\n",
    "    for error in Counter(total_error).most_common():\n",
    "        error_occurance[int(error[0][0])][int(error[0][1])] = error[1]\n",
    "\n",
    "    fig, ax = plt.subplots(nrows=1, ncols=1, figsize=(6, 4.5))\n",
    "    #Plot number of one graph\n",
    "\n",
    "    percentage_of_error_occurence = error_occurance/number_of_one\n",
    "    percentage_of_error_occurence[np.isnan(percentage_of_error_occurence)] = 0\n",
    "    percentage_of_error_occurence = (percentage_of_error_occurence * 100).astype(int)\n",
    "    # percentage_of_one = ((number_of_one/187) * 100).astype(int)\n",
    "    ax.imshow(percentage_of_error_occurence, cmap=\"Reds\")\n",
    "    # ax.title.set_text(\"Error percentage based \")\n",
    "    for i in range(6):\n",
    "        for j in range(8):\n",
    "            if number_of_one[i, j] >= 1:\n",
    "                # text = str(int(error_occurance[i, j])) + \"/\" + str(number_of_one[i, j])+\"(\"+str(percentage_of_one[i, j])+\")\" + \"=\" + str(percentage_of_error_occurence[i, j])\n",
    "                text = str(percentage_of_error_occurence[i, j])\n",
    "            else:\n",
    "                text = \"0\"\n",
    "            text = ax.text(j, i, text,\n",
    "                           ha=\"center\", va=\"center\", color=\"w\", size=14)\n",
    "    # fig = plt.figure()\n",
    "    ax.get_xaxis().set_visible(False)\n",
    "    ax.get_yaxis().set_visible(False)\n",
    "    fig.savefig(\"dnam_wetlab_error_loc.png\", bbox_inches='tight', dpi=300)\n",
    "    plt.show()"
   ]
  },
  {
   "cell_type": "code",
   "execution_count": 44,
   "metadata": {
    "scrolled": false
   },
   "outputs": [
    {
     "name": "stderr",
     "output_type": "stream",
     "text": [
      "/var/folders/yz/7sx9j80n33x4tz7j6yr7tg0m0000gp/T/ipykernel_25030/329610313.py:19: RuntimeWarning: invalid value encountered in true_divide\n",
      "  percentage_error = error_occurance/total_ones_in_origami\n",
      "/var/folders/yz/7sx9j80n33x4tz7j6yr7tg0m0000gp/T/ipykernel_25030/329610313.py:56: RuntimeWarning: invalid value encountered in true_divide\n",
      "  percentage_of_error_occurence = error_occurance/number_of_one\n"
     ]
    },
    {
     "data": {
      "image/png": "[encoded data removed]",
      "text/plain": [
       "<Figure size 288x216 with 1 Axes>"
      ]
     },
     "metadata": {
      "needs_background": "light"
     },
     "output_type": "display_data"
    },
    {
     "data": {
      "image/png": "[encoded data removed]",
      "text/plain": [
       "<Figure size 288x216 with 1 Axes>"
      ]
     },
     "metadata": {
      "needs_background": "light"
     },
     "output_type": "display_data"
    },
    {
     "data": {
      "image/png": "[encoded data removed]",
      "text/plain": [
       "<Figure size 288x216 with 1 Axes>"
      ]
     },
     "metadata": {
      "needs_background": "light"
     },
     "output_type": "display_data"
    },
    {
     "data": {
      "image/png": "[encoded data removed]",
      "text/plain": [
       "<Figure size 288x216 with 1 Axes>"
      ]
     },
     "metadata": {
      "needs_background": "light"
     },
     "output_type": "display_data"
    },
    {
     "data": {
      "image/png": "[encoded data removed]",
      "text/plain": [
       "<Figure size 288x216 with 1 Axes>"
      ]
     },
     "metadata": {
      "needs_background": "light"
     },
     "output_type": "display_data"
    },
    {
     "data": {
      "image/png": "[encoded data removed]",
      "text/plain": [
       "<Figure size 288x216 with 1 Axes>"
      ]
     },
     "metadata": {
      "needs_background": "light"
     },
     "output_type": "display_data"
    },
    {
     "data": {
      "image/png": "[encoded data removed]",
      "text/plain": [
       "<Figure size 288x216 with 1 Axes>"
      ]
     },
     "metadata": {
      "needs_background": "light"
     },
     "output_type": "display_data"
    },
    {
     "data": {
      "image/png": "[encoded data removed]",
      "text/plain": [
       "<Figure size 288x216 with 1 Axes>"
      ]
     },
     "metadata": {
      "needs_background": "light"
     },
     "output_type": "display_data"
    },
    {
     "data": {
      "image/png": "[encoded data removed]",
      "text/plain": [
       "<Figure size 288x216 with 1 Axes>"
      ]
     },
     "metadata": {
      "needs_background": "light"
     },
     "output_type": "display_data"
    },
    {
     "data": {
      "image/png": "[encoded data removed]",
      "text/plain": [
       "<Figure size 288x216 with 1 Axes>"
      ]
     },
     "metadata": {
      "needs_background": "light"
     },
     "output_type": "display_data"
    },
    {
     "data": {
      "image/png": "[encoded data removed]",
      "text/plain": [
       "<Figure size 288x216 with 1 Axes>"
      ]
     },
     "metadata": {
      "needs_background": "light"
     },
     "output_type": "display_data"
    },
    {
     "data": {
      "image/png": "[encoded data removed]",
      "text/plain": [
       "<Figure size 288x216 with 1 Axes>"
      ]
     },
     "metadata": {
      "needs_background": "light"
     },
     "output_type": "display_data"
    },
    {
     "data": {
      "image/png": "[encoded data removed]",
      "text/plain": [
       "<Figure size 288x216 with 1 Axes>"
      ]
     },
     "metadata": {
      "needs_background": "light"
     },
     "output_type": "display_data"
    },
    {
     "data": {
      "image/png": "[encoded data removed]",
      "text/plain": [
       "<Figure size 288x216 with 1 Axes>"
      ]
     },
     "metadata": {
      "needs_background": "light"
     },
     "output_type": "display_data"
    },
    {
     "data": {
      "image/png": "[encoded data removed]",
      "text/plain": [
       "<Figure size 288x216 with 1 Axes>"
      ]
     },
     "metadata": {
      "needs_background": "light"
     },
     "output_type": "display_data"
    },
    {
     "data": {
      "image/png": "[encoded data removed]",
      "text/plain": [
       "<Figure size 432x324 with 1 Axes>"
      ]
     },
     "metadata": {
      "needs_background": "light"
     },
     "output_type": "display_data"
    }
   ],
   "source": [
    "print_individual_error(combine_error_location_details, combined_number_of_one)"
   ]
  },
  {
   "cell_type": "code",
   "execution_count": 21,
   "metadata": {},
   "outputs": [
    {
     "data": {
      "text/plain": [
       "68.68477573835334"
      ]
     },
     "execution_count": 21,
     "metadata": {},
     "output_type": "execute_result"
    }
   ],
   "source": [
    "# Plot\n",
    "with_intensity_steps = 3037.035\n",
    "without_intensity_steps = 9698.27\n",
    "steps_change = abs(with_intensity_steps - without_intensity_steps)/without_intensity_steps * 100\n",
    "steps_change"
   ]
  },
  {
   "cell_type": "code",
   "execution_count": 22,
   "metadata": {},
   "outputs": [],
   "source": [
    "# Calculate false positive and false negative rate\n",
    "without_intensity_true_positive = r1_without_intensity_result['Correct']['Total'] + r2_without_intensity_result['Correct']['Total'] + r3_without_intensity_result['Correct']['Total']\n",
    "without_intensity_false_positive = r1_without_intensity_result['Incorrect']['Total'] + r2_without_intensity_result['Incorrect']['Total'] + r3_without_intensity_result['Incorrect']['Total']\n",
    "\n",
    "with_intensity_true_positive = r1_with_intensity_result['Correct']['Total'] + r2_with_intensity_result['Correct']['Total'] + r3_with_intensity_result['Correct']['Total']\n",
    "with_intensity_false_positive = r1_with_intensity_result['Incorrect']['Total'] + r2_with_intensity_result['Incorrect']['Total'] + r3_with_intensity_result['Incorrect']['Total']\n"
   ]
  },
  {
   "cell_type": "code",
   "execution_count": 23,
   "metadata": {},
   "outputs": [],
   "source": [
    "true_positive_increase = (with_intensity_true_positive - without_intensity_true_positive)/without_intensity_true_positive * 100\n",
    "false_positive_decrease = (without_intensity_false_positive - with_intensity_false_positive)/without_intensity_false_positive * 100"
   ]
  },
  {
   "cell_type": "code",
   "execution_count": 62,
   "metadata": {},
   "outputs": [
    {
     "data": {
      "image/png": "[encoded data removed]",
      "text/plain": [
       "<Figure size 864x432 with 1 Axes>"
      ]
     },
     "metadata": {
      "needs_background": "light"
     },
     "output_type": "display_data"
    }
   ],
   "source": [
    "matplotlib.rc('figure', figsize=(12, 6))\n",
    "plt.rcParams['font.size'] = 24\n",
    "plt.rcParams[\"font.family\"] = \"Times New Roman\"\n",
    "# fig = plt.figure(figsize=(15, 10))\n",
    "# width=.4\n",
    "plt.bar([\"TP increase\", \"FP decrease\", \"Computation decrease\"], [true_positive_increase, false_positive_decrease, steps_change], color='#b7b7b7', width=width, align='center')\n",
    "plt.ylabel(\"Percentage change (%)\", fontsize=28)\n",
    "plt.savefig(\"intensity_with_without_metrics.png\", dpi=100, bbox_inches=\"tight\")\n",
    "# plt.legend()\n",
    "plt.show()"
   ]
  },
  {
   "cell_type": "code",
   "execution_count": 25,
   "metadata": {},
   "outputs": [
    {
     "data": {
      "text/html": [
       "<div>\n",
       "<style scoped>\n",
       "    .dataframe tbody tr th:only-of-type {\n",
       "        vertical-align: middle;\n",
       "    }\n",
       "\n",
       "    .dataframe tbody tr th {\n",
       "        vertical-align: top;\n",
       "    }\n",
       "\n",
       "    .dataframe thead th {\n",
       "        text-align: right;\n",
       "    }\n",
       "</style>\n",
       "<table border=\"1\" class=\"dataframe\">\n",
       "  <thead>\n",
       "    <tr style=\"text-align: right;\">\n",
       "      <th></th>\n",
       "      <th>Correct</th>\n",
       "      <th>Incorrect</th>\n",
       "      <th>Total</th>\n",
       "      <th>Average error fixed</th>\n",
       "    </tr>\n",
       "    <tr>\n",
       "      <th>Recovered Index</th>\n",
       "      <th></th>\n",
       "      <th></th>\n",
       "      <th></th>\n",
       "      <th></th>\n",
       "    </tr>\n",
       "  </thead>\n",
       "  <tbody>\n",
       "    <tr>\n",
       "      <th>0</th>\n",
       "      <td>29</td>\n",
       "      <td>23</td>\n",
       "      <td>52</td>\n",
       "      <td>6.275862</td>\n",
       "    </tr>\n",
       "    <tr>\n",
       "      <th>1</th>\n",
       "      <td>23</td>\n",
       "      <td>22</td>\n",
       "      <td>45</td>\n",
       "      <td>5.173913</td>\n",
       "    </tr>\n",
       "    <tr>\n",
       "      <th>2</th>\n",
       "      <td>3</td>\n",
       "      <td>24</td>\n",
       "      <td>27</td>\n",
       "      <td>6.333333</td>\n",
       "    </tr>\n",
       "    <tr>\n",
       "      <th>3</th>\n",
       "      <td>9</td>\n",
       "      <td>13</td>\n",
       "      <td>22</td>\n",
       "      <td>4.666667</td>\n",
       "    </tr>\n",
       "    <tr>\n",
       "      <th>4</th>\n",
       "      <td>10</td>\n",
       "      <td>14</td>\n",
       "      <td>24</td>\n",
       "      <td>6.400000</td>\n",
       "    </tr>\n",
       "    <tr>\n",
       "      <th>5</th>\n",
       "      <td>30</td>\n",
       "      <td>10</td>\n",
       "      <td>40</td>\n",
       "      <td>4.266667</td>\n",
       "    </tr>\n",
       "    <tr>\n",
       "      <th>6</th>\n",
       "      <td>52</td>\n",
       "      <td>15</td>\n",
       "      <td>67</td>\n",
       "      <td>3.865385</td>\n",
       "    </tr>\n",
       "    <tr>\n",
       "      <th>7</th>\n",
       "      <td>3</td>\n",
       "      <td>6</td>\n",
       "      <td>9</td>\n",
       "      <td>4.333333</td>\n",
       "    </tr>\n",
       "    <tr>\n",
       "      <th>8</th>\n",
       "      <td>18</td>\n",
       "      <td>15</td>\n",
       "      <td>33</td>\n",
       "      <td>6.222222</td>\n",
       "    </tr>\n",
       "    <tr>\n",
       "      <th>9</th>\n",
       "      <td>14</td>\n",
       "      <td>13</td>\n",
       "      <td>27</td>\n",
       "      <td>5.071429</td>\n",
       "    </tr>\n",
       "    <tr>\n",
       "      <th>10</th>\n",
       "      <td>36</td>\n",
       "      <td>13</td>\n",
       "      <td>49</td>\n",
       "      <td>5.694444</td>\n",
       "    </tr>\n",
       "    <tr>\n",
       "      <th>11</th>\n",
       "      <td>14</td>\n",
       "      <td>13</td>\n",
       "      <td>27</td>\n",
       "      <td>4.785714</td>\n",
       "    </tr>\n",
       "    <tr>\n",
       "      <th>12</th>\n",
       "      <td>12</td>\n",
       "      <td>14</td>\n",
       "      <td>26</td>\n",
       "      <td>4.666667</td>\n",
       "    </tr>\n",
       "    <tr>\n",
       "      <th>13</th>\n",
       "      <td>28</td>\n",
       "      <td>13</td>\n",
       "      <td>41</td>\n",
       "      <td>6.392857</td>\n",
       "    </tr>\n",
       "    <tr>\n",
       "      <th>14</th>\n",
       "      <td>23</td>\n",
       "      <td>13</td>\n",
       "      <td>36</td>\n",
       "      <td>4.913043</td>\n",
       "    </tr>\n",
       "    <tr>\n",
       "      <th>Total</th>\n",
       "      <td>304</td>\n",
       "      <td>221</td>\n",
       "      <td>525</td>\n",
       "      <td>5.167763</td>\n",
       "    </tr>\n",
       "  </tbody>\n",
       "</table>\n",
       "</div>"
      ],
      "text/plain": [
       "                 Correct  Incorrect  Total  Average error fixed\n",
       "Recovered Index                                                \n",
       "0                     29         23     52             6.275862\n",
       "1                     23         22     45             5.173913\n",
       "2                      3         24     27             6.333333\n",
       "3                      9         13     22             4.666667\n",
       "4                     10         14     24             6.400000\n",
       "5                     30         10     40             4.266667\n",
       "6                     52         15     67             3.865385\n",
       "7                      3          6      9             4.333333\n",
       "8                     18         15     33             6.222222\n",
       "9                     14         13     27             5.071429\n",
       "10                    36         13     49             5.694444\n",
       "11                    14         13     27             4.785714\n",
       "12                    12         14     26             4.666667\n",
       "13                    28         13     41             6.392857\n",
       "14                    23         13     36             4.913043\n",
       "Total                304        221    525             5.167763"
      ]
     },
     "execution_count": 25,
     "metadata": {},
     "output_type": "execute_result"
    }
   ],
   "source": [
    "r1_without_intensity_result"
   ]
  },
  {
   "cell_type": "code",
   "execution_count": 45,
   "metadata": {},
   "outputs": [
    {
     "data": {
      "text/html": [
       "<div>\n",
       "<style scoped>\n",
       "    .dataframe tbody tr th:only-of-type {\n",
       "        vertical-align: middle;\n",
       "    }\n",
       "\n",
       "    .dataframe tbody tr th {\n",
       "        vertical-align: top;\n",
       "    }\n",
       "\n",
       "    .dataframe thead th {\n",
       "        text-align: right;\n",
       "    }\n",
       "</style>\n",
       "<table border=\"1\" class=\"dataframe\">\n",
       "  <thead>\n",
       "    <tr style=\"text-align: right;\">\n",
       "      <th></th>\n",
       "      <th>Correct</th>\n",
       "      <th>Incorrect</th>\n",
       "      <th>Total</th>\n",
       "      <th>Average error fixed</th>\n",
       "    </tr>\n",
       "    <tr>\n",
       "      <th>Recovered Index</th>\n",
       "      <th></th>\n",
       "      <th></th>\n",
       "      <th></th>\n",
       "      <th></th>\n",
       "    </tr>\n",
       "  </thead>\n",
       "  <tbody>\n",
       "    <tr>\n",
       "      <th>0</th>\n",
       "      <td>29</td>\n",
       "      <td>14</td>\n",
       "      <td>43</td>\n",
       "      <td>6.206897</td>\n",
       "    </tr>\n",
       "    <tr>\n",
       "      <th>1</th>\n",
       "      <td>27</td>\n",
       "      <td>19</td>\n",
       "      <td>46</td>\n",
       "      <td>5.481481</td>\n",
       "    </tr>\n",
       "    <tr>\n",
       "      <th>2</th>\n",
       "      <td>4</td>\n",
       "      <td>9</td>\n",
       "      <td>13</td>\n",
       "      <td>6.750000</td>\n",
       "    </tr>\n",
       "    <tr>\n",
       "      <th>3</th>\n",
       "      <td>9</td>\n",
       "      <td>9</td>\n",
       "      <td>18</td>\n",
       "      <td>4.777778</td>\n",
       "    </tr>\n",
       "    <tr>\n",
       "      <th>4</th>\n",
       "      <td>11</td>\n",
       "      <td>7</td>\n",
       "      <td>18</td>\n",
       "      <td>6.454545</td>\n",
       "    </tr>\n",
       "    <tr>\n",
       "      <th>5</th>\n",
       "      <td>32</td>\n",
       "      <td>6</td>\n",
       "      <td>38</td>\n",
       "      <td>4.281250</td>\n",
       "    </tr>\n",
       "    <tr>\n",
       "      <th>6</th>\n",
       "      <td>54</td>\n",
       "      <td>8</td>\n",
       "      <td>62</td>\n",
       "      <td>3.962963</td>\n",
       "    </tr>\n",
       "    <tr>\n",
       "      <th>7</th>\n",
       "      <td>5</td>\n",
       "      <td>4</td>\n",
       "      <td>9</td>\n",
       "      <td>5.400000</td>\n",
       "    </tr>\n",
       "    <tr>\n",
       "      <th>8</th>\n",
       "      <td>15</td>\n",
       "      <td>8</td>\n",
       "      <td>23</td>\n",
       "      <td>6.200000</td>\n",
       "    </tr>\n",
       "    <tr>\n",
       "      <th>9</th>\n",
       "      <td>15</td>\n",
       "      <td>12</td>\n",
       "      <td>27</td>\n",
       "      <td>5.466667</td>\n",
       "    </tr>\n",
       "    <tr>\n",
       "      <th>10</th>\n",
       "      <td>33</td>\n",
       "      <td>13</td>\n",
       "      <td>46</td>\n",
       "      <td>5.666667</td>\n",
       "    </tr>\n",
       "    <tr>\n",
       "      <th>11</th>\n",
       "      <td>19</td>\n",
       "      <td>7</td>\n",
       "      <td>26</td>\n",
       "      <td>5.315789</td>\n",
       "    </tr>\n",
       "    <tr>\n",
       "      <th>12</th>\n",
       "      <td>12</td>\n",
       "      <td>10</td>\n",
       "      <td>22</td>\n",
       "      <td>5.166667</td>\n",
       "    </tr>\n",
       "    <tr>\n",
       "      <th>13</th>\n",
       "      <td>28</td>\n",
       "      <td>8</td>\n",
       "      <td>36</td>\n",
       "      <td>6.535714</td>\n",
       "    </tr>\n",
       "    <tr>\n",
       "      <th>14</th>\n",
       "      <td>28</td>\n",
       "      <td>13</td>\n",
       "      <td>41</td>\n",
       "      <td>5.142857</td>\n",
       "    </tr>\n",
       "    <tr>\n",
       "      <th>Total</th>\n",
       "      <td>321</td>\n",
       "      <td>147</td>\n",
       "      <td>468</td>\n",
       "      <td>5.292835</td>\n",
       "    </tr>\n",
       "  </tbody>\n",
       "</table>\n",
       "</div>"
      ],
      "text/plain": [
       "                 Correct  Incorrect  Total  Average error fixed\n",
       "Recovered Index                                                \n",
       "0                     29         14     43             6.206897\n",
       "1                     27         19     46             5.481481\n",
       "2                      4          9     13             6.750000\n",
       "3                      9          9     18             4.777778\n",
       "4                     11          7     18             6.454545\n",
       "5                     32          6     38             4.281250\n",
       "6                     54          8     62             3.962963\n",
       "7                      5          4      9             5.400000\n",
       "8                     15          8     23             6.200000\n",
       "9                     15         12     27             5.466667\n",
       "10                    33         13     46             5.666667\n",
       "11                    19          7     26             5.315789\n",
       "12                    12         10     22             5.166667\n",
       "13                    28          8     36             6.535714\n",
       "14                    28         13     41             5.142857\n",
       "Total                321        147    468             5.292835"
      ]
     },
     "execution_count": 45,
     "metadata": {},
     "output_type": "execute_result"
    }
   ],
   "source": [
    "r1_with_intensity_result"
   ]
  },
  {
   "cell_type": "code",
   "execution_count": 78,
   "metadata": {},
   "outputs": [
    {
     "data": {
      "text/plain": [
       "6.785714285714286"
      ]
     },
     "execution_count": 78,
     "metadata": {},
     "output_type": "execute_result"
    }
   ],
   "source": [
    "true_positive_increase"
   ]
  },
  {
   "cell_type": "code",
   "execution_count": 79,
   "metadata": {},
   "outputs": [
    {
     "data": {
      "text/plain": [
       "28.08219178082192"
      ]
     },
     "execution_count": 79,
     "metadata": {},
     "output_type": "execute_result"
    }
   ],
   "source": [
    "false_positive_decrease"
   ]
  },
  {
   "cell_type": "code",
   "execution_count": 80,
   "metadata": {},
   "outputs": [
    {
     "data": {
      "text/plain": [
       "68.68477573835334"
      ]
     },
     "execution_count": 80,
     "metadata": {},
     "output_type": "execute_result"
    }
   ],
   "source": [
    "steps_change"
   ]
  },
  {
   "cell_type": "code",
   "execution_count": null,
   "metadata": {},
   "outputs": [],
   "source": []
  }
 ],
 "metadata": {
  "kernelspec": {
   "display_name": "Python 3 (ipykernel)",
   "language": "python",
   "name": "python3"
  },
  "language_info": {
   "codemirror_mode": {
    "name": "ipython",
    "version": 3
   },
   "file_extension": ".py",
   "mimetype": "text/x-python",
   "name": "python",
   "nbconvert_exporter": "python",
   "pygments_lexer": "ipython3",
   "version": "3.9.12"
  }
 },
 "nbformat": 4,
 "nbformat_minor": 1
}
